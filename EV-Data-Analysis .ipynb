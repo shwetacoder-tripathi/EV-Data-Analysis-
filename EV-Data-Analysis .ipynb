{
 "cells": [
  {
   "cell_type": "code",
   "execution_count": null,
   "id": "3225a34d-c075-48d5-8537-89fc4ae10d25",
   "metadata": {},
   "outputs": [],
   "source": [
    "# Electric Vehicle Data Analysis Assignment\n",
    "\n",
    "# Title: EV Data Analysis - Washington State\n",
    "# Author: [SHWETA TRIPATHI]\n",
    "# Date: [25-05-2025]\n",
    "#Course: [Data Analysis with Python – GrowAI]\n"
   ]
  },
  {
   "cell_type": "code",
   "execution_count": null,
   "id": "a110e158-5bac-4307-82cd-5add48f07a80",
   "metadata": {},
   "outputs": [],
   "source": [
    "# Importing Libraries and Loading Dataset\n",
    "import pandas as pd\n",
    "import numpy as np\n",
    "import matplotlib.pyplot as plt\n",
    "import seaborn as sns\n",
    "from sklearn.linear_model import LinearRegression\n",
    "from sklearn.model_selection import train_test_split\n",
    "from sklearn.metrics import r2_score\n",
    "from sklearn.preprocessing import OneHotEncoder\n",
    "from sklearn.compose import ColumnTransformer\n",
    "from sklearn.pipeline import Pipeline\n",
    "\n",
    "# Load the dataset\n",
    "df = pd.read_csv(\"Electric_Vehicle_Population_Data.csv\")\n",
    "\n"
   ]
  },
  {
   "cell_type": "code",
   "execution_count": null,
   "id": "106dbf6e-0666-4ade-ba08-a0984beadc02",
   "metadata": {},
   "outputs": [],
   "source": [
    "# Section 1: Data Cleaning\n",
    "# Replace 0 with NaN in Electric Range and Base MSRP\n",
    "df['Electric Range'].replace(0, np.nan, inplace=True)\n",
    "df['Base MSRP'].replace(0, np.nan, inplace=True)\n",
    "\n",
    "# Drop duplicates\n",
    "df.drop_duplicates(inplace=True)\n",
    "\n",
    "# Anonymize VINs while keeping uniqueness\n",
    "df['VIN (1-10)'] = df['VIN (1-10)'].astype('category').cat.codes\n",
    "\n",
    "# Parse Vehicle Location into Longitude and Latitude\n",
    "def split_location(location):\n",
    "    try:\n",
    "        lat_long = location.strip(\"()\").split(\",\")\n",
    "        return float(lat_long[0]), float(lat_long[1])\n",
    "    except:\n",
    "        return np.nan, np.nan\n",
    "\n",
    "df[['Longitude', 'Latitude']] = df['Vehicle Location'].apply(\n",
    "    lambda x: pd.Series(split_location(x)) if pd.notnull(x) else pd.Series([np.nan, np.nan])\n",
    ")"
   ]
  },
  {
   "cell_type": "code",
   "execution_count": null,
   "id": "f2c06838-4ad8-48e2-af56-e7cac804298d",
   "metadata": {},
   "outputs": [],
   "source": [
    "# Section 2: Exploratory Data Analysis\n",
    "# Top 5 Makes and Models\n",
    "top_makes = df['Make'].value_counts().head(5)\n",
    "top_models = df['Model'].value_counts().head(5)\n",
    "\n",
    "# County distribution\n",
    "county_distribution = df['County'].value_counts().head(10)\n",
    "\n",
    "# EVs by model year\n",
    "model_year_distribution = df['Model Year'].value_counts().sort_index()\n",
    "\n",
    "# CAFV eligibility\n",
    "cafv_eligibility = df['Clean Alternative Fuel Vehicle (CAFV) Eligibility'].value_counts()\n",
    "\n",
    "# Average Electric Range and MSRP by model\n",
    "avg_range = df['Electric Range'].mean()\n",
    "avg_msrp_by_model = df.groupby('Model')['Base MSRP'].mean().dropna().sort_values(ascending=False).head(10)"
   ]
  },
  {
   "cell_type": "code",
   "execution_count": null,
   "id": "21061674-9492-499f-aa01-26534243fc8b",
   "metadata": {},
   "outputs": [],
   "source": [
    "# Section 3: Visualizations\n",
    "sns.set(style=\"whitegrid\")\n",
    "fig, axs = plt.subplots(3, 2, figsize=(16, 16))\n",
    "fig.suptitle(\"EV Data Visualizations\", fontsize=18)\n",
    "\n",
    "sns.barplot(x=top_makes.values, y=top_makes.index, ax=axs[0, 0])\n",
    "axs[0, 0].set_title(\"Top 5 EV Makes\")\n",
    "\n",
    "sns.barplot(x=top_models.values, y=top_models.index, ax=axs[0, 1])\n",
    "axs[0, 1].set_title(\"Top 5 EV Models\")\n",
    "\n",
    "sns.barplot(x=county_distribution.values, y=county_distribution.index, ax=axs[1, 0])\n",
    "axs[1, 0].set_title(\"Top 10 Counties by EV Count\")\n",
    "\n",
    "sns.lineplot(x=model_year_distribution.index, y=model_year_distribution.values, ax=axs[1, 1])\n",
    "axs[1, 1].set_title(\"EVs by Model Year\")\n",
    "\n",
    "axs[2, 0].pie(cafv_eligibility.values, labels=cafv_eligibility.index, autopct='%1.1f%%')\n",
    "axs[2, 0].set_title(\"CAFV Eligibility Distribution\")\n",
    "\n",
    "sns.barplot(x=avg_msrp_by_model.values, y=avg_msrp_by_model.index, ax=axs[2, 1])\n",
    "axs[2, 1].set_title(\"Top 10 Models by Avg. MSRP\")\n",
    "\n",
    "plt.tight_layout(rect=[0, 0, 1, 0.97])\n",
    "plt.show()"
   ]
  },
  {
   "cell_type": "code",
   "execution_count": null,
   "id": "722b74b0-d4ae-4784-84f7-1fe209fed3eb",
   "metadata": {},
   "outputs": [],
   "source": [
    "\n",
    "# Section 4: Linear Regression\n",
    "model_data = df[['Electric Range', 'Base MSRP', 'Model Year', 'Make']].dropna()\n",
    "X = model_data[['Base MSRP', 'Model Year', 'Make']]\n",
    "y = model_data['Electric Range']\n",
    "\n",
    "preprocessor = ColumnTransformer(\n",
    "    transformers=[\n",
    "        ('cat', OneHotEncoder(handle_unknown='ignore'), ['Make'])\n",
    "    ],\n",
    "    remainder='passthrough'\n",
    ")\n",
    "\n",
    "pipeline = Pipeline(steps=[\n",
    "    ('preprocessor', preprocessor),\n",
    "    ('regressor', LinearRegression())\n",
    "])\n",
    "\n",
    "X_train, X_test, y_train, y_test = train_test_split(X, y, test_size=0.2, random_state=42)\n",
    "pipeline.fit(X_train, y_train)\n",
    "y_pred = pipeline.predict(X_test)\n",
    "r2 = r2_score(y_test, y_pred)\n",
    "print(f\"R² Score: {r2:.4f}\")\n",
    "\n",
    "\n"
   ]
  },
  {
   "cell_type": "code",
   "execution_count": null,
   "id": "ee68a119-166a-4219-9fe9-1898866863c0",
   "metadata": {},
   "outputs": [],
   "source": [
    "# Section : Conclusion\n",
    "# The dataset shows strong growth in EV registrations post-2018, dominated by Tesla models. CAFV eligibility is high,\n",
    "# and MSRP shows influence on predicted range. Linear regression yielded an R² score indicating [Insert Interpretation Here].\n"
   ]
  }
 ],
 "metadata": {
  "kernelspec": {
   "display_name": "Python 3 (ipykernel)",
   "language": "python",
   "name": "python3"
  },
  "language_info": {
   "codemirror_mode": {
    "name": "ipython",
    "version": 3
   },
   "file_extension": ".py",
   "mimetype": "text/x-python",
   "name": "python",
   "nbconvert_exporter": "python",
   "pygments_lexer": "ipython3",
   "version": "3.13.3"
  }
 },
 "nbformat": 4,
 "nbformat_minor": 5
}
